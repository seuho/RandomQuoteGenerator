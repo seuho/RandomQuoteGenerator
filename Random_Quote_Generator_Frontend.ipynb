{
 "cells": [
  {
   "cell_type": "markdown",
   "metadata": {},
   "source": [
    "# Frontend Logic"
   ]
  },
  {
   "cell_type": "code",
   "execution_count": 1,
   "metadata": {},
   "outputs": [],
   "source": [
    "import requests"
   ]
  },
  {
   "cell_type": "code",
   "execution_count": 2,
   "metadata": {},
   "outputs": [],
   "source": [
    "def generate_quote_by_zen():\n",
    "    response = requests.get(\"https://zenquotes.io/api/random\")\n",
    "    if response.status_code == 200:    \n",
    "        data = response.json()\n",
    "        quote = data[0]['q']\n",
    "        author = data[0]['a']\n",
    "\n",
    "        return f'{quote} - {author}'\n",
    "    \n",
    "    else:\n",
    "        return 'Failed to fetch a quote'"
   ]
  },
  {
   "cell_type": "code",
   "execution_count": 3,
   "metadata": {},
   "outputs": [
    {
     "name": "stdout",
     "output_type": "stream",
     "text": [
      "It all depends on what you choose to believe. - Spencer Johnson\n"
     ]
    }
   ],
   "source": [
    "print(generate_quote_by_zen())"
   ]
  },
  {
   "cell_type": "code",
   "execution_count": 4,
   "metadata": {},
   "outputs": [],
   "source": [
    "def generate_quote_from_backend():\n",
    "    response = requests.get(\"http://127.0.0.1:5000/quote/random\")\n",
    "    if response.status_code == 200:    \n",
    "        data = response.json()\n",
    "        quote = data['message']\n",
    "        author = data['author']\n",
    "\n",
    "        return f'{quote} - {author}'\n",
    "    \n",
    "    else:\n",
    "        return 'Failed to fetch a quote'"
   ]
  },
  {
   "cell_type": "code",
   "execution_count": 5,
   "metadata": {},
   "outputs": [
    {
     "name": "stdout",
     "output_type": "stream",
     "text": [
      "There is a big difference between being centered and being self-centered. - Lolly Daskal\n"
     ]
    }
   ],
   "source": [
    "print(generate_quote_from_backend())"
   ]
  },
  {
   "cell_type": "markdown",
   "metadata": {},
   "source": [
    "# GUI"
   ]
  },
  {
   "cell_type": "code",
   "execution_count": 6,
   "metadata": {},
   "outputs": [],
   "source": [
    "from PyQt5.QtWidgets import QApplication, QLabel, QMainWindow, QPushButton, QVBoxLayout, QWidget\n",
    "from PyQt5.QtGui import QIcon"
   ]
  },
  {
   "cell_type": "code",
   "execution_count": 7,
   "metadata": {},
   "outputs": [],
   "source": [
    "# Define a main window class\n",
    "class MainWindow(QMainWindow):\n",
    "    def __init__(self):\n",
    "        super().__init__()\n",
    "        self.setWindowTitle(\"Random Quotes\")\n",
    "        self.setGeometry(100, 100, 400, 200)\n",
    "        self.setStyleSheet(\"background-color: lightblue;\")\n",
    "        self.setWindowIcon(QIcon('RQ_Logo.png'))\n",
    "\n",
    "        # Create a central widget and layout\n",
    "        central_widget = QWidget(self)\n",
    "        layout = QVBoxLayout(central_widget)\n",
    "\n",
    "        # Label for displaying the quotes\n",
    "        self.label = QLabel(\"Press a button to get a quote!\", self)\n",
    "        self.label.setWordWrap(True)\n",
    "        self.label.setStyleSheet(\"font-weight: bold; font-family: Times New Roman; font-size: 18px\")\n",
    "        layout.addWidget(self.label)\n",
    "\n",
    "        # Create the Zen button and connect it to the function\n",
    "        zen_button = QPushButton(\"Get Zen API Quote\", self)\n",
    "        zen_button.clicked.connect(self.show_zen_quote)\n",
    "        zen_button.setStyleSheet(\"\"\"\n",
    "            background-color: #4CAF50;     /* Green background */\n",
    "            color: white;                  /* White text */\n",
    "            font-size: 16px;               /* Font size */\n",
    "            padding: 10px;                 /* Padding inside the button */\n",
    "            border-radius: 10px;           /* Rounded corners */\n",
    "            border: 2px solid #3E8E41;     /* Darker green border */\n",
    "            font-family: Times New Roman;  /* Times New Roman Font */\n",
    "        \"\"\")\n",
    "        layout.addWidget(zen_button)\n",
    "\n",
    "        # Create the Custom button and connect it to the function\n",
    "        custom_button = QPushButton(\"Get Custom API Quote\", self)\n",
    "        custom_button.clicked.connect(self.show_custom_quote)\n",
    "        custom_button.setStyleSheet(\"\"\"\n",
    "            background-color: #008CBA;     /* Blue background */\n",
    "            color: white;                  /* White text */\n",
    "            font-size: 16px;               /* Font size */\n",
    "            padding: 10px;                 /* Padding inside the button */\n",
    "            border-radius: 10px;           /* Rounded corners */\n",
    "            border: 2px solid #007B9E;     /* Darker blue border */\n",
    "            font-family: Times New Roman;  /* Times New Roman Font */\n",
    "        \"\"\")\n",
    "        layout.addWidget(custom_button)\n",
    "\n",
    "        # Set the layout for the central widget\n",
    "        central_widget.setLayout(layout)\n",
    "        self.setCentralWidget(central_widget)\n",
    "\n",
    "    def show_zen_quote(self):\n",
    "        # Fetch the Zen quote and update the label\n",
    "        zen_quote = generate_quote_by_zen()\n",
    "        self.label.setText(zen_quote)\n",
    "        self.label.setStyleSheet(\"\"\"\n",
    "            color: #4CAF50;\n",
    "            font-size: 16px;\n",
    "            font-family: Times New Roman;\n",
    "        \"\"\")\n",
    "\n",
    "    def show_custom_quote(self):\n",
    "        # Fetch the custom quote from backend and update the label\n",
    "        custom_quote = generate_quote_from_backend()\n",
    "        self.label.setText(custom_quote)\n",
    "        self.label.setStyleSheet(\"\"\"\n",
    "            color: #008CBA;\n",
    "            font-size: 16px;\n",
    "            font-family: Times New Roman;                                \n",
    "        \"\"\")"
   ]
  },
  {
   "cell_type": "code",
   "execution_count": null,
   "metadata": {},
   "outputs": [],
   "source": [
    "# Create the application\n",
    "app = QApplication([])\n",
    "window = MainWindow()\n",
    "window.show()\n",
    "app.exec()"
   ]
  }
 ],
 "metadata": {
  "kernelspec": {
   "display_name": "aincrad",
   "language": "python",
   "name": "python3"
  },
  "language_info": {
   "codemirror_mode": {
    "name": "ipython",
    "version": 3
   },
   "file_extension": ".py",
   "mimetype": "text/x-python",
   "name": "python",
   "nbconvert_exporter": "python",
   "pygments_lexer": "ipython3",
   "version": "3.12.0"
  }
 },
 "nbformat": 4,
 "nbformat_minor": 2
}
